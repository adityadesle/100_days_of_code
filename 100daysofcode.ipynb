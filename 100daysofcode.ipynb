{
 "cells": [
  {
   "cell_type": "markdown",
   "metadata": {},
   "source": [
    "# Nested List"
   ]
  },
  {
   "cell_type": "code",
   "execution_count": 9,
   "metadata": {},
   "outputs": [
    {
     "name": "stdout",
     "output_type": "stream",
     "text": [
      "enter number4\n",
      "enter name:adi\n",
      "enter score:30\n",
      "enter name:par\n",
      "enter score:40\n",
      "enter name:arj\n",
      "enter score:40\n",
      "enter name:jag\n",
      "enter score:50\n",
      "[['adi', 30.0], ['par', 40.0], ['arj', 40.0], ['jag', 50.0]]\n",
      "[30.0, 40.0, 40.0, 50.0]\n",
      "[30.0, 40.0, 50.0]\n",
      "40.0\n",
      "['par', 'arj']\n",
      "['arj', 'par']\n",
      "arj\n",
      "par\n"
     ]
    }
   ],
   "source": [
    "#nested list takes values of student name and score and printing second lowest score in the sorted form.\n",
    "\n",
    "\n",
    "n = int(input(\"enter number\"))\n",
    "\n",
    "\n",
    "res =[]\n",
    "grade =[]\n",
    "for i in range(n):\n",
    "    name = input(\"enter name:\")\n",
    "    score = float(input(\"enter score:\"))\n",
    "    res.append([name,score])\n",
    "    grade.append(score)\n",
    "   \n",
    "print(res)\n",
    "print(grade)\n",
    "\n",
    "\n",
    "\n",
    "#m = min(grade)\n",
    "#grade.remove(m)\n",
    "#m1= min(grade)\n",
    "grade = sorted(set(grade))\n",
    "print(grade)\n",
    "m=grade[1]\n",
    "print(m)\n",
    "name =[]\n",
    "\n",
    "for val in res:\n",
    "    if m==val[1]:\n",
    "        name.append(val[0])\n",
    "print(name)\n",
    "name.sort()\n",
    "print(name)\n",
    "for nm in name:\n",
    "    print(nm)"
   ]
  },
  {
   "cell_type": "markdown",
   "metadata": {},
   "source": [
    "# List Comprehension"
   ]
  },
  {
   "cell_type": "code",
   "execution_count": 12,
   "metadata": {},
   "outputs": [
    {
     "name": "stdout",
     "output_type": "stream",
     "text": [
      "1\n",
      "1\n",
      "1\n",
      "2\n",
      "[[0, 0, 0], [0, 0, 1], [0, 1, 0], [1, 0, 0], [1, 1, 1]]\n"
     ]
    }
   ],
   "source": [
    "# take 4 values , x,y,z and n and with 3 variables i,j,k where 0<=i<=x,0<=j<=y,0<=k<=z and i+j+k!=n.\n",
    "#with multiple loops form\n",
    "\n",
    "if __name__==\"__main__\":\n",
    "    x = int(input())\n",
    "    y = int(input())\n",
    "    z = int(input())\n",
    "    n = int(input())\n",
    "   # res = []\n",
    "    #for i in range(x+1):\n",
    "     #   for j in range(y+1):\n",
    "      #      for k in range(z+1):\n",
    "       #         if i+j+k !=n:\n",
    "        #            res.append([i,j,k])\n",
    "                    \n",
    "    #print(res) \n",
    "    \n",
    "    #[expression for condition]\n",
    "    res = [[i,j,k]  for i in range(x+1) for j in range(y+1) for k in range(z+1) if i+j+k!=n]\n",
    "    print(res)"
   ]
  },
  {
   "cell_type": "markdown",
   "metadata": {},
   "source": [
    "# set"
   ]
  },
  {
   "cell_type": "code",
   "execution_count": 14,
   "metadata": {},
   "outputs": [
    {
     "name": "stdout",
     "output_type": "stream",
     "text": [
      "5\n",
      "160\n",
      "160.0\n"
     ]
    }
   ],
   "source": [
    "def average(array):\n",
    "    return sum(set(array))/len(set(array))\n",
    "    \n",
    "    \n",
    "    \n",
    "if __name__=='__main__':\n",
    "    n = int(input())\n",
    "    arr = list(map(int,input().split()))\n",
    "    \n",
    "    result = average(arr)\n",
    "    print(result)\n",
    "    "
   ]
  },
  {
   "cell_type": "markdown",
   "metadata": {},
   "source": [
    "# String Formating"
   ]
  },
  {
   "cell_type": "code",
   "execution_count": null,
   "metadata": {},
   "outputs": [],
   "source": [
    "#enter a number from user print its decimal , octal , hexadecial and binary value\n",
    "\n",
    "def str_format(number):\n",
    "    \n",
    "    \n",
    "    print()\n",
    "    \n",
    "    \n",
    "if __name__==\"__main__\":\n",
    "    n = int(input())\n",
    "    str_format(n)"
   ]
  },
  {
   "cell_type": "markdown",
   "metadata": {},
   "source": [
    "# Alphabhet rangoli"
   ]
  },
  {
   "cell_type": "code",
   "execution_count": 4,
   "metadata": {},
   "outputs": [
    {
     "name": "stdout",
     "output_type": "stream",
     "text": [
      "5\n",
      "--------e--------\n",
      "------e-d-e------\n",
      "----e-d-c-d-e----\n",
      "--e-d-c-b-c-d-e--\n",
      "e-d-c-b-a-b-c-d-e\n",
      "--e-d-c-b-c-d-e--\n",
      "----e-d-c-d-e----\n",
      "------e-d-e------\n",
      "--------e--------\n"
     ]
    }
   ],
   "source": [
    "def print_rangoli(size):                                  #part1\n",
    "    n = size\n",
    "    l1 = list(map(chr,range(97,123)))\n",
    "    x = l1[n-1::-1]+l1[1:n]\n",
    "    m=len('-'.join(x))\n",
    "     \n",
    "        \n",
    "        \n",
    "    for i in range(1,n):                                   #part2\n",
    "        print('-'.join(l1[n-1:n-i:-1]+l1[n-i:n]).center(m,'-'))\n",
    "        \n",
    "        \n",
    "        \n",
    "        \n",
    "    for i in range(n,0,-1):                                 #part3\n",
    "        print('-'.join(l1[n-1:n-i:-1]+l1[n-i:n]).center(m,'-'))\n",
    "        \n",
    "        \n",
    "        \n",
    "if __name__=='__main__':\n",
    "    n = int(input())\n",
    "    print_rangoli(n)\n",
    "        "
   ]
  },
  {
   "cell_type": "markdown",
   "metadata": {},
   "source": [
    "# Symmetric Difference"
   ]
  },
  {
   "cell_type": "code",
   "execution_count": 1,
   "metadata": {},
   "outputs": [
    {
     "name": "stdout",
     "output_type": "stream",
     "text": [
      "4\n",
      "2 5 9 11\n",
      "4\n",
      "5 6 4 9\n",
      "2\n",
      "4\n",
      "6\n",
      "11\n"
     ]
    }
   ],
   "source": [
    "a,b = int(input()),input().split()\n",
    "c,d = int(input()),input().split()\n",
    "\n",
    "x = set(b)\n",
    "y = set(d)\n",
    "\n",
    "p = x.difference(y)\n",
    "q = y.difference(x)\n",
    "\n",
    "r = p.union(q)\n",
    "\n",
    "print('\\n'.join(sorted(r,key=int)))"
   ]
  },
  {
   "cell_type": "markdown",
   "metadata": {},
   "source": [
    "# Set "
   ]
  },
  {
   "cell_type": "code",
   "execution_count": 1,
   "metadata": {},
   "outputs": [
    {
     "name": "stdout",
     "output_type": "stream",
     "text": [
      "3\n",
      "usa\n",
      "uk\n",
      "usa\n",
      "2\n"
     ]
    }
   ],
   "source": [
    "n = int(input())                            #unique values .\n",
    "\n",
    "s = set()\n",
    "\n",
    "for _ in range(n):\n",
    "    s.add(input())\n",
    "\n",
    "print(len(s))    "
   ]
  },
  {
   "cell_type": "markdown",
   "metadata": {},
   "source": [
    "# dict"
   ]
  },
  {
   "cell_type": "code",
   "execution_count": null,
   "metadata": {},
   "outputs": [],
   "source": [
    "n = int(input())\n",
    "a = list(int(input().split()))\n",
    "\n",
    "b = list(int(input().split()))\n",
    "\n",
    "l =[]\n",
    "\n",
    "for j in range(n):\n",
    "    a.append(j)\n",
    "    \n",
    "for k in range(n):\n",
    "    b.append(k)\n",
    "    \n",
    "    \n",
    "for i in b:\n",
    "    if i in a:\n",
    "        l.append(b[i])\n",
    "    else:\n",
    "        l.append(-1)\n",
    "\n",
    "print(l)        "
   ]
  },
  {
   "cell_type": "markdown",
   "metadata": {},
   "source": [
    "# DefaultDict"
   ]
  },
  {
   "cell_type": "code",
   "execution_count": 11,
   "metadata": {},
   "outputs": [
    {
     "name": "stdout",
     "output_type": "stream",
     "text": [
      "5 2\n",
      "a\n",
      "b\n",
      "a\n",
      "a\n",
      "b\n",
      "a\n",
      "1 3 4\n",
      "b\n",
      "2 5\n"
     ]
    }
   ],
   "source": [
    "from collections import defaultdict\n",
    "\n",
    "N,M = map(int,input().split())\n",
    "\n",
    "D = defaultdict(list)\n",
    "\n",
    "for i in range(N):\n",
    "    s=input().rstrip()\n",
    "    D[s].append(i+1)\n",
    "\n",
    "for i in range(M):\n",
    "    s = input().rstrip()\n",
    "    \n",
    "    if s in D:\n",
    "        print(\" \".join(map(str,D[s])))\n",
    "        \n",
    "    else:\n",
    "        print(\"-1\")"
   ]
  },
  {
   "cell_type": "code",
   "execution_count": 12,
   "metadata": {},
   "outputs": [
    {
     "name": "stdout",
     "output_type": "stream",
     "text": [
      "{'a': 2, 'd': 2, 'i': 1, 't': 1, 'y': 1, 'e': 2, 's': 1, 'l': 1}\n"
     ]
    }
   ],
   "source": [
    "name =\"adityadesle\"\n",
    "\n",
    "d ={}\n",
    "\n",
    "for i in name:\n",
    "    if i not in d:\n",
    "        d[i] = 1\n",
    "    else:\n",
    "        d[i] += 1\n",
    "        \n",
    "print(d)       "
   ]
  },
  {
   "cell_type": "code",
   "execution_count": null,
   "metadata": {},
   "outputs": [],
   "source": []
  },
  {
   "cell_type": "code",
   "execution_count": null,
   "metadata": {},
   "outputs": [],
   "source": [
    "\n"
   ]
  },
  {
   "cell_type": "code",
   "execution_count": null,
   "metadata": {},
   "outputs": [],
   "source": []
  }
 ],
 "metadata": {
  "kernelspec": {
   "display_name": "Python 3",
   "language": "python",
   "name": "python3"
  },
  "language_info": {
   "codemirror_mode": {
    "name": "ipython",
    "version": 3
   },
   "file_extension": ".py",
   "mimetype": "text/x-python",
   "name": "python",
   "nbconvert_exporter": "python",
   "pygments_lexer": "ipython3",
   "version": "3.8.5"
  }
 },
 "nbformat": 4,
 "nbformat_minor": 4
}
