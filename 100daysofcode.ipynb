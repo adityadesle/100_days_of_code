{
 "cells": [
  {
   "cell_type": "markdown",
   "metadata": {},
   "source": [
    "# Nested List"
   ]
  },
  {
   "cell_type": "code",
   "execution_count": 9,
   "metadata": {},
   "outputs": [
    {
     "name": "stdout",
     "output_type": "stream",
     "text": [
      "enter number4\n",
      "enter name:adi\n",
      "enter score:30\n",
      "enter name:par\n",
      "enter score:40\n",
      "enter name:arj\n",
      "enter score:40\n",
      "enter name:jag\n",
      "enter score:50\n",
      "[['adi', 30.0], ['par', 40.0], ['arj', 40.0], ['jag', 50.0]]\n",
      "[30.0, 40.0, 40.0, 50.0]\n",
      "[30.0, 40.0, 50.0]\n",
      "40.0\n",
      "['par', 'arj']\n",
      "['arj', 'par']\n",
      "arj\n",
      "par\n"
     ]
    }
   ],
   "source": [
    "#nested list takes values of student name and score and printing second lowest score in the sorted form.\n",
    "\n",
    "\n",
    "n = int(input(\"enter number\"))\n",
    "\n",
    "\n",
    "res =[]\n",
    "grade =[]\n",
    "for i in range(n):\n",
    "    name = input(\"enter name:\")\n",
    "    score = float(input(\"enter score:\"))\n",
    "    res.append([name,score])\n",
    "    grade.append(score)\n",
    "   \n",
    "print(res)\n",
    "print(grade)\n",
    "\n",
    "\n",
    "\n",
    "#m = min(grade)\n",
    "#grade.remove(m)\n",
    "#m1= min(grade)\n",
    "grade = sorted(set(grade))\n",
    "print(grade)\n",
    "m=grade[1]\n",
    "print(m)\n",
    "name =[]\n",
    "\n",
    "for val in res:\n",
    "    if m==val[1]:\n",
    "        name.append(val[0])\n",
    "print(name)\n",
    "name.sort()\n",
    "print(name)\n",
    "for nm in name:\n",
    "    print(nm)"
   ]
  },
  {
   "cell_type": "markdown",
   "metadata": {},
   "source": [
    "# List Comprehension"
   ]
  },
  {
   "cell_type": "code",
   "execution_count": 12,
   "metadata": {},
   "outputs": [
    {
     "name": "stdout",
     "output_type": "stream",
     "text": [
      "1\n",
      "1\n",
      "1\n",
      "2\n",
      "[[0, 0, 0], [0, 0, 1], [0, 1, 0], [1, 0, 0], [1, 1, 1]]\n"
     ]
    }
   ],
   "source": [
    "# take 4 values , x,y,z and n and with 3 variables i,j,k where 0<=i<=x,0<=j<=y,0<=k<=z and i+j+k!=n.\n",
    "#with multiple loops form\n",
    "\n",
    "if __name__==\"__main__\":\n",
    "    x = int(input())\n",
    "    y = int(input())\n",
    "    z = int(input())\n",
    "    n = int(input())\n",
    "   # res = []\n",
    "    #for i in range(x+1):\n",
    "     #   for j in range(y+1):\n",
    "      #      for k in range(z+1):\n",
    "       #         if i+j+k !=n:\n",
    "        #            res.append([i,j,k])\n",
    "                    \n",
    "    #print(res) \n",
    "    \n",
    "    #[expression for condition]\n",
    "    res = [[i,j,k]  for i in range(x+1) for j in range(y+1) for k in range(z+1) if i+j+k!=n]\n",
    "    print(res)"
   ]
  },
  {
   "cell_type": "markdown",
   "metadata": {},
   "source": [
    "# set"
   ]
  },
  {
   "cell_type": "code",
   "execution_count": 14,
   "metadata": {},
   "outputs": [
    {
     "name": "stdout",
     "output_type": "stream",
     "text": [
      "5\n",
      "160\n",
      "160.0\n"
     ]
    }
   ],
   "source": [
    "def average(array):\n",
    "    return sum(set(array))/len(set(array))\n",
    "    \n",
    "    \n",
    "    \n",
    "if __name__=='__main__':\n",
    "    n = int(input())\n",
    "    arr = list(map(int,input().split()))\n",
    "    \n",
    "    result = average(arr)\n",
    "    print(result)\n",
    "    "
   ]
  },
  {
   "cell_type": "markdown",
   "metadata": {},
   "source": [
    "# String Formating"
   ]
  },
  {
   "cell_type": "code",
   "execution_count": null,
   "metadata": {},
   "outputs": [],
   "source": [
    "#enter a number from user print its decimal , octal , hexadecial and binary value\n",
    "\n",
    "def str_format(number):\n",
    "    \n",
    "    \n",
    "    print()\n",
    "    \n",
    "    \n",
    "if __name__==\"__main__\":\n",
    "    n = int(input())\n",
    "    str_format(n)"
   ]
  },
  {
   "cell_type": "markdown",
   "metadata": {},
   "source": [
    "# Alphabhet rangoli"
   ]
  },
  {
   "cell_type": "code",
   "execution_count": 4,
   "metadata": {},
   "outputs": [
    {
     "name": "stdout",
     "output_type": "stream",
     "text": [
      "5\n",
      "--------e--------\n",
      "------e-d-e------\n",
      "----e-d-c-d-e----\n",
      "--e-d-c-b-c-d-e--\n",
      "e-d-c-b-a-b-c-d-e\n",
      "--e-d-c-b-c-d-e--\n",
      "----e-d-c-d-e----\n",
      "------e-d-e------\n",
      "--------e--------\n"
     ]
    }
   ],
   "source": [
    "def print_rangoli(size):                                  #part1\n",
    "    n = size\n",
    "    l1 = list(map(chr,range(97,123)))\n",
    "    x = l1[n-1::-1]+l1[1:n]\n",
    "    m=len('-'.join(x))\n",
    "     \n",
    "        \n",
    "        \n",
    "    for i in range(1,n):                                   #part2\n",
    "        print('-'.join(l1[n-1:n-i:-1]+l1[n-i:n]).center(m,'-'))\n",
    "        \n",
    "        \n",
    "        \n",
    "        \n",
    "    for i in range(n,0,-1):                                 #part3\n",
    "        print('-'.join(l1[n-1:n-i:-1]+l1[n-i:n]).center(m,'-'))\n",
    "        \n",
    "        \n",
    "        \n",
    "if __name__=='__main__':\n",
    "    n = int(input())\n",
    "    print_rangoli(n)\n",
    "        "
   ]
  },
  {
   "cell_type": "markdown",
   "metadata": {},
   "source": [
    "# Symmetric Difference"
   ]
  },
  {
   "cell_type": "code",
   "execution_count": 1,
   "metadata": {},
   "outputs": [
    {
     "name": "stdout",
     "output_type": "stream",
     "text": [
      "4\n",
      "2 5 9 11\n",
      "4\n",
      "5 6 4 9\n",
      "2\n",
      "4\n",
      "6\n",
      "11\n"
     ]
    }
   ],
   "source": [
    "a,b = int(input()),input().split()\n",
    "c,d = int(input()),input().split()\n",
    "\n",
    "x = set(b)\n",
    "y = set(d)\n",
    "\n",
    "p = x.difference(y)\n",
    "q = y.difference(x)\n",
    "\n",
    "r = p.union(q)\n",
    "\n",
    "print('\\n'.join(sorted(r,key=int)))"
   ]
  },
  {
   "cell_type": "markdown",
   "metadata": {},
   "source": [
    "# Set "
   ]
  },
  {
   "cell_type": "code",
   "execution_count": 1,
   "metadata": {},
   "outputs": [
    {
     "name": "stdout",
     "output_type": "stream",
     "text": [
      "3\n",
      "usa\n",
      "uk\n",
      "usa\n",
      "2\n"
     ]
    }
   ],
   "source": [
    "n = int(input())                            #unique values .\n",
    "\n",
    "s = set()\n",
    "\n",
    "for _ in range(n):\n",
    "    s.add(input())\n",
    "\n",
    "print(len(s))    "
   ]
  },
  {
   "cell_type": "markdown",
   "metadata": {},
   "source": [
    "# dict"
   ]
  },
  {
   "cell_type": "code",
   "execution_count": null,
   "metadata": {},
   "outputs": [],
   "source": [
    "n = int(input())\n",
    "a = list(int(input().split()))\n",
    "\n",
    "b = list(int(input().split()))\n",
    "\n",
    "l =[]\n",
    "\n",
    "for j in range(n):\n",
    "    a.append(j)\n",
    "    \n",
    "for k in range(n):\n",
    "    b.append(k)\n",
    "    \n",
    "    \n",
    "for i in b:\n",
    "    if i in a:\n",
    "        l.append(b[i])\n",
    "    else:\n",
    "        l.append(-1)\n",
    "\n",
    "print(l)        "
   ]
  },
  {
   "cell_type": "markdown",
   "metadata": {},
   "source": [
    "# DefaultDict"
   ]
  },
  {
   "cell_type": "code",
   "execution_count": 11,
   "metadata": {},
   "outputs": [
    {
     "name": "stdout",
     "output_type": "stream",
     "text": [
      "5 2\n",
      "a\n",
      "b\n",
      "a\n",
      "a\n",
      "b\n",
      "a\n",
      "1 3 4\n",
      "b\n",
      "2 5\n"
     ]
    }
   ],
   "source": [
    "from collections import defaultdict\n",
    "\n",
    "N,M = map(int,input().split())\n",
    "\n",
    "D = defaultdict(list)\n",
    "\n",
    "for i in range(N):\n",
    "    s=input().rstrip()\n",
    "    D[s].append(i+1)\n",
    "\n",
    "for i in range(M):\n",
    "    s = input().rstrip()\n",
    "    \n",
    "    if s in D:\n",
    "        print(\" \".join(map(str,D[s])))\n",
    "        \n",
    "    else:\n",
    "        print(\"-1\")"
   ]
  },
  {
   "cell_type": "code",
   "execution_count": 12,
   "metadata": {},
   "outputs": [
    {
     "name": "stdout",
     "output_type": "stream",
     "text": [
      "{'a': 2, 'd': 2, 'i': 1, 't': 1, 'y': 1, 'e': 2, 's': 1, 'l': 1}\n"
     ]
    }
   ],
   "source": [
    "name =\"adityadesle\"\n",
    "\n",
    "d ={}\n",
    "\n",
    "for i in name:\n",
    "    if i not in d:\n",
    "        d[i] = 1\n",
    "    else:\n",
    "        d[i] += 1\n",
    "        \n",
    "print(d)       "
   ]
  },
  {
   "cell_type": "code",
   "execution_count": 13,
   "metadata": {},
   "outputs": [
    {
     "name": "stdout",
     "output_type": "stream",
     "text": [
      "Collecting jupyterthemes\n",
      "  Downloading jupyterthemes-0.20.0-py2.py3-none-any.whl (7.0 MB)\n",
      "Collecting lesscpy>=0.11.2\n",
      "  Downloading lesscpy-0.14.0-py2.py3-none-any.whl (46 kB)\n",
      "Requirement already satisfied: ipython>=5.4.1 in d:\\programdata\\lib\\site-packages (from jupyterthemes) (7.19.0)\n",
      "Requirement already satisfied: notebook>=5.6.0 in d:\\programdata\\lib\\site-packages (from jupyterthemes) (6.1.4)\n",
      "Requirement already satisfied: jupyter-core in d:\\programdata\\lib\\site-packages (from jupyterthemes) (4.6.3)\n",
      "Requirement already satisfied: matplotlib>=1.4.3 in d:\\programdata\\lib\\site-packages (from jupyterthemes) (3.3.2)\n",
      "Requirement already satisfied: ply in d:\\programdata\\lib\\site-packages (from lesscpy>=0.11.2->jupyterthemes) (3.11)\n",
      "Requirement already satisfied: six in d:\\programdata\\lib\\site-packages (from lesscpy>=0.11.2->jupyterthemes) (1.15.0)\n",
      "Requirement already satisfied: prompt-toolkit!=3.0.0,!=3.0.1,<3.1.0,>=2.0.0 in d:\\programdata\\lib\\site-packages (from ipython>=5.4.1->jupyterthemes) (3.0.8)\n",
      "Requirement already satisfied: traitlets>=4.2 in d:\\programdata\\lib\\site-packages (from ipython>=5.4.1->jupyterthemes) (5.0.5)\n",
      "Requirement already satisfied: colorama; sys_platform == \"win32\" in d:\\programdata\\lib\\site-packages (from ipython>=5.4.1->jupyterthemes) (0.4.4)\n",
      "Requirement already satisfied: pickleshare in d:\\programdata\\lib\\site-packages (from ipython>=5.4.1->jupyterthemes) (0.7.5)\n",
      "Requirement already satisfied: decorator in d:\\programdata\\lib\\site-packages (from ipython>=5.4.1->jupyterthemes) (4.4.2)\n",
      "Requirement already satisfied: backcall in d:\\programdata\\lib\\site-packages (from ipython>=5.4.1->jupyterthemes) (0.2.0)\n",
      "Requirement already satisfied: pygments in d:\\programdata\\lib\\site-packages (from ipython>=5.4.1->jupyterthemes) (2.7.2)\n",
      "Requirement already satisfied: jedi>=0.10 in d:\\programdata\\lib\\site-packages (from ipython>=5.4.1->jupyterthemes) (0.17.1)\n",
      "Requirement already satisfied: setuptools>=18.5 in d:\\programdata\\lib\\site-packages (from ipython>=5.4.1->jupyterthemes) (50.3.1.post20201107)\n",
      "Requirement already satisfied: Send2Trash in d:\\programdata\\lib\\site-packages (from notebook>=5.6.0->jupyterthemes) (1.5.0)\n",
      "Requirement already satisfied: ipykernel in d:\\programdata\\lib\\site-packages (from notebook>=5.6.0->jupyterthemes) (5.3.4)\n",
      "Requirement already satisfied: tornado>=5.0 in d:\\programdata\\lib\\site-packages (from notebook>=5.6.0->jupyterthemes) (6.0.4)\n",
      "Requirement already satisfied: prometheus-client in d:\\programdata\\lib\\site-packages (from notebook>=5.6.0->jupyterthemes) (0.8.0)\n",
      "Requirement already satisfied: argon2-cffi in d:\\programdata\\lib\\site-packages (from notebook>=5.6.0->jupyterthemes) (20.1.0)\n",
      "Requirement already satisfied: terminado>=0.8.3 in d:\\programdata\\lib\\site-packages (from notebook>=5.6.0->jupyterthemes) (0.9.1)\n",
      "Requirement already satisfied: jinja2 in d:\\programdata\\lib\\site-packages (from notebook>=5.6.0->jupyterthemes) (2.11.2)\n",
      "Requirement already satisfied: nbconvert in d:\\programdata\\lib\\site-packages (from notebook>=5.6.0->jupyterthemes) (6.0.7)\n",
      "Requirement already satisfied: nbformat in d:\\programdata\\lib\\site-packages (from notebook>=5.6.0->jupyterthemes) (5.0.8)\n",
      "Requirement already satisfied: ipython-genutils in d:\\programdata\\lib\\site-packages (from notebook>=5.6.0->jupyterthemes) (0.2.0)\n",
      "Requirement already satisfied: jupyter-client>=5.3.4 in d:\\programdata\\lib\\site-packages (from notebook>=5.6.0->jupyterthemes) (6.1.7)\n",
      "Requirement already satisfied: pyzmq>=17 in d:\\programdata\\lib\\site-packages (from notebook>=5.6.0->jupyterthemes) (19.0.2)\n",
      "Requirement already satisfied: pywin32>=1.0; sys_platform == \"win32\" in d:\\programdata\\lib\\site-packages (from jupyter-core->jupyterthemes) (227)\n",
      "Requirement already satisfied: pyparsing!=2.0.4,!=2.1.2,!=2.1.6,>=2.0.3 in d:\\programdata\\lib\\site-packages (from matplotlib>=1.4.3->jupyterthemes) (2.4.7)\n",
      "Requirement already satisfied: kiwisolver>=1.0.1 in d:\\programdata\\lib\\site-packages (from matplotlib>=1.4.3->jupyterthemes) (1.3.0)\n",
      "Requirement already satisfied: pillow>=6.2.0 in d:\\programdata\\lib\\site-packages (from matplotlib>=1.4.3->jupyterthemes) (8.0.1)\n",
      "Requirement already satisfied: numpy>=1.15 in d:\\programdata\\lib\\site-packages (from matplotlib>=1.4.3->jupyterthemes) (1.19.2)\n",
      "Requirement already satisfied: python-dateutil>=2.1 in d:\\programdata\\lib\\site-packages (from matplotlib>=1.4.3->jupyterthemes) (2.8.1)\n",
      "Requirement already satisfied: certifi>=2020.06.20 in d:\\programdata\\lib\\site-packages (from matplotlib>=1.4.3->jupyterthemes) (2020.6.20)\n",
      "Requirement already satisfied: cycler>=0.10 in d:\\programdata\\lib\\site-packages (from matplotlib>=1.4.3->jupyterthemes) (0.10.0)\n",
      "Requirement already satisfied: wcwidth in d:\\programdata\\lib\\site-packages (from prompt-toolkit!=3.0.0,!=3.0.1,<3.1.0,>=2.0.0->ipython>=5.4.1->jupyterthemes) (0.2.5)\n",
      "Requirement already satisfied: parso<0.8.0,>=0.7.0 in d:\\programdata\\lib\\site-packages (from jedi>=0.10->ipython>=5.4.1->jupyterthemes) (0.7.0)\n",
      "Requirement already satisfied: cffi>=1.0.0 in d:\\programdata\\lib\\site-packages (from argon2-cffi->notebook>=5.6.0->jupyterthemes) (1.14.3)\n",
      "Requirement already satisfied: pywinpty>=0.5 in d:\\programdata\\lib\\site-packages (from terminado>=0.8.3->notebook>=5.6.0->jupyterthemes) (0.5.7)\n",
      "Requirement already satisfied: MarkupSafe>=0.23 in d:\\programdata\\lib\\site-packages (from jinja2->notebook>=5.6.0->jupyterthemes) (1.1.1)\n",
      "Requirement already satisfied: nbclient<0.6.0,>=0.5.0 in d:\\programdata\\lib\\site-packages (from nbconvert->notebook>=5.6.0->jupyterthemes) (0.5.1)\n",
      "Requirement already satisfied: pandocfilters>=1.4.1 in d:\\programdata\\lib\\site-packages (from nbconvert->notebook>=5.6.0->jupyterthemes) (1.4.3)\n",
      "Requirement already satisfied: defusedxml in d:\\programdata\\lib\\site-packages (from nbconvert->notebook>=5.6.0->jupyterthemes) (0.6.0)\n",
      "Requirement already satisfied: jupyterlab-pygments in d:\\programdata\\lib\\site-packages (from nbconvert->notebook>=5.6.0->jupyterthemes) (0.1.2)\n",
      "Requirement already satisfied: entrypoints>=0.2.2 in d:\\programdata\\lib\\site-packages (from nbconvert->notebook>=5.6.0->jupyterthemes) (0.3)\n",
      "Requirement already satisfied: bleach in d:\\programdata\\lib\\site-packages (from nbconvert->notebook>=5.6.0->jupyterthemes) (3.2.1)\n",
      "Requirement already satisfied: testpath in d:\\programdata\\lib\\site-packages (from nbconvert->notebook>=5.6.0->jupyterthemes) (0.4.4)\n",
      "Requirement already satisfied: mistune<2,>=0.8.1 in d:\\programdata\\lib\\site-packages (from nbconvert->notebook>=5.6.0->jupyterthemes) (0.8.4)\n",
      "Requirement already satisfied: jsonschema!=2.5.0,>=2.4 in d:\\programdata\\lib\\site-packages (from nbformat->notebook>=5.6.0->jupyterthemes) (3.2.0)\n",
      "Requirement already satisfied: pycparser in d:\\programdata\\lib\\site-packages (from cffi>=1.0.0->argon2-cffi->notebook>=5.6.0->jupyterthemes) (2.20)\n",
      "Requirement already satisfied: nest-asyncio in d:\\programdata\\lib\\site-packages (from nbclient<0.6.0,>=0.5.0->nbconvert->notebook>=5.6.0->jupyterthemes) (1.4.2)\n",
      "Requirement already satisfied: async-generator in d:\\programdata\\lib\\site-packages (from nbclient<0.6.0,>=0.5.0->nbconvert->notebook>=5.6.0->jupyterthemes) (1.10)\n",
      "Requirement already satisfied: webencodings in d:\\programdata\\lib\\site-packages (from bleach->nbconvert->notebook>=5.6.0->jupyterthemes) (0.5.1)\n",
      "Requirement already satisfied: packaging in d:\\programdata\\lib\\site-packages (from bleach->nbconvert->notebook>=5.6.0->jupyterthemes) (20.4)\n",
      "Requirement already satisfied: attrs>=17.4.0 in d:\\programdata\\lib\\site-packages (from jsonschema!=2.5.0,>=2.4->nbformat->notebook>=5.6.0->jupyterthemes) (20.3.0)\n",
      "Requirement already satisfied: pyrsistent>=0.14.0 in d:\\programdata\\lib\\site-packages (from jsonschema!=2.5.0,>=2.4->nbformat->notebook>=5.6.0->jupyterthemes) (0.17.3)\n",
      "Installing collected packages: lesscpy, jupyterthemes\n",
      "Successfully installed jupyterthemes-0.20.0 lesscpy-0.14.0\n"
     ]
    }
   ],
   "source": [
    "!pip install jupyterthemes"
   ]
  },
  {
   "cell_type": "code",
   "execution_count": 14,
   "metadata": {},
   "outputs": [
    {
     "name": "stdout",
     "output_type": "stream",
     "text": [
      "Available Themes: \n",
      "   chesterish\n",
      "   grade3\n",
      "   gruvboxd\n",
      "   gruvboxl\n",
      "   monokai\n",
      "   oceans16\n",
      "   onedork\n",
      "   solarizedd\n",
      "   solarizedl\n"
     ]
    }
   ],
   "source": [
    "!jt -l\n"
   ]
  },
  {
   "cell_type": "code",
   "execution_count": 19,
   "metadata": {},
   "outputs": [],
   "source": [
    "!jt -t onedork"
   ]
  },
  {
   "cell_type": "code",
   "execution_count": 1,
   "metadata": {},
   "outputs": [
    {
     "name": "stdout",
     "output_type": "stream",
     "text": [
      "The sequence is:\n",
      "Current_number: 0 Previous_number: 0 Sum: 0\n",
      "Current_number: 1 Previous_number: 0 Sum: 1\n",
      "Current_number: 2 Previous_number: 1 Sum: 3\n",
      "Current_number: 3 Previous_number: 2 Sum: 5\n",
      "Current_number: 4 Previous_number: 3 Sum: 7\n",
      "Current_number: 5 Previous_number: 4 Sum: 9\n",
      "Current_number: 6 Previous_number: 5 Sum: 11\n",
      "Current_number: 7 Previous_number: 6 Sum: 13\n",
      "Current_number: 8 Previous_number: 7 Sum: 15\n",
      "Current_number: 9 Previous_number: 8 Sum: 17\n"
     ]
    }
   ],
   "source": [
    "def sumNum(num):\n",
    "    previous_num = 0\n",
    "    \n",
    "    for i in range(num):\n",
    "        _sum_ = previous_num + i\n",
    "        print(\"Current_number:\",i,\"Previous_number:\",previous_num,\"Sum:\",_sum_)\n",
    "        previous_num = i\n",
    "print(\"The sequence is:\")\n",
    "\n",
    "sumNum(10)\n",
    "        "
   ]
  },
  {
   "cell_type": "code",
   "execution_count": null,
   "metadata": {},
   "outputs": [],
   "source": [
    "str = raw_input(\"enter the number:\")\n",
    "\n"
   ]
  }
 ],
 "metadata": {
  "kernelspec": {
   "display_name": "Python 3",
   "language": "python",
   "name": "python3"
  },
  "language_info": {
   "codemirror_mode": {
    "name": "ipython",
    "version": 3
   },
   "file_extension": ".py",
   "mimetype": "text/x-python",
   "name": "python",
   "nbconvert_exporter": "python",
   "pygments_lexer": "ipython3",
   "version": "3.8.5"
  }
 },
 "nbformat": 4,
 "nbformat_minor": 4
}
