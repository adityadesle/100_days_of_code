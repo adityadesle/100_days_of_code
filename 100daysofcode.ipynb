{
 "cells": [
  {
   "cell_type": "markdown",
   "metadata": {},
   "source": [
    "# Nested List"
   ]
  },
  {
   "cell_type": "code",
   "execution_count": 9,
   "metadata": {},
   "outputs": [
    {
     "name": "stdout",
     "output_type": "stream",
     "text": [
      "enter number4\n",
      "enter name:adi\n",
      "enter score:30\n",
      "enter name:par\n",
      "enter score:40\n",
      "enter name:arj\n",
      "enter score:40\n",
      "enter name:jag\n",
      "enter score:50\n",
      "[['adi', 30.0], ['par', 40.0], ['arj', 40.0], ['jag', 50.0]]\n",
      "[30.0, 40.0, 40.0, 50.0]\n",
      "[30.0, 40.0, 50.0]\n",
      "40.0\n",
      "['par', 'arj']\n",
      "['arj', 'par']\n",
      "arj\n",
      "par\n"
     ]
    }
   ],
   "source": [
    "#nested list takes values of student name and score and printing second lowest score in the sorted form.\n",
    "\n",
    "\n",
    "n = int(input(\"enter number\"))\n",
    "\n",
    "\n",
    "res =[]\n",
    "grade =[]\n",
    "for i in range(n):\n",
    "    name = input(\"enter name:\")\n",
    "    score = float(input(\"enter score:\"))\n",
    "    res.append([name,score])\n",
    "    grade.append(score)\n",
    "   \n",
    "print(res)\n",
    "print(grade)\n",
    "\n",
    "\n",
    "\n",
    "#m = min(grade)\n",
    "#grade.remove(m)\n",
    "#m1= min(grade)\n",
    "grade = sorted(set(grade))\n",
    "print(grade)\n",
    "m=grade[1]\n",
    "print(m)\n",
    "name =[]\n",
    "\n",
    "for val in res:\n",
    "    if m==val[1]:\n",
    "        name.append(val[0])\n",
    "print(name)\n",
    "name.sort()\n",
    "print(name)\n",
    "for nm in name:\n",
    "    print(nm)"
   ]
  },
  {
   "cell_type": "markdown",
   "metadata": {},
   "source": [
    "# List Comprehension"
   ]
  },
  {
   "cell_type": "code",
   "execution_count": 12,
   "metadata": {},
   "outputs": [
    {
     "name": "stdout",
     "output_type": "stream",
     "text": [
      "1\n",
      "1\n",
      "1\n",
      "2\n",
      "[[0, 0, 0], [0, 0, 1], [0, 1, 0], [1, 0, 0], [1, 1, 1]]\n"
     ]
    }
   ],
   "source": [
    "# take 4 values , x,y,z and n and with 3 variables i,j,k where 0<=i<=x,0<=j<=y,0<=k<=z and i+j+k!=n.\n",
    "#with multiple loops form\n",
    "\n",
    "if __name__==\"__main__\":\n",
    "    x = int(input())\n",
    "    y = int(input())\n",
    "    z = int(input())\n",
    "    n = int(input())\n",
    "   # res = []\n",
    "    #for i in range(x+1):\n",
    "     #   for j in range(y+1):\n",
    "      #      for k in range(z+1):\n",
    "       #         if i+j+k !=n:\n",
    "        #            res.append([i,j,k])\n",
    "                    \n",
    "    #print(res) \n",
    "    \n",
    "    \n",
    "    res = [[i,j,k]  for i in range(x+1) for j in range(y+1) for k in range(z+1) if i+j+k!=n]\n",
    "    print(res)"
   ]
  },
  {
   "cell_type": "code",
   "execution_count": null,
   "metadata": {},
   "outputs": [],
   "source": [
    "\n"
   ]
  }
 ],
 "metadata": {
  "kernelspec": {
   "display_name": "Python 3",
   "language": "python",
   "name": "python3"
  },
  "language_info": {
   "codemirror_mode": {
    "name": "ipython",
    "version": 3
   },
   "file_extension": ".py",
   "mimetype": "text/x-python",
   "name": "python",
   "nbconvert_exporter": "python",
   "pygments_lexer": "ipython3",
   "version": "3.8.5"
  }
 },
 "nbformat": 4,
 "nbformat_minor": 4
}
